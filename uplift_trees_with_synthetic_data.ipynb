{
  "nbformat": 4,
  "nbformat_minor": 0,
  "metadata": {
    "kernelspec": {
      "display_name": "Python 3",
      "language": "python",
      "name": "python3"
    },
    "language_info": {
      "codemirror_mode": {
        "name": "ipython",
        "version": 3
      },
      "file_extension": ".py",
      "mimetype": "text/x-python",
      "name": "python",
      "nbconvert_exporter": "python",
      "pygments_lexer": "ipython3",
      "version": "3.7.1"
    },
    "colab": {
      "name": "uplift_trees_with_synthetic_data.ipynb",
      "provenance": [],
      "collapsed_sections": [],
      "include_colab_link": true
    }
  },
  "cells": [
    {
      "cell_type": "markdown",
      "metadata": {
        "id": "view-in-github",
        "colab_type": "text"
      },
      "source": [
        "<a href=\"https://colab.research.google.com/github/uni-3/jupyter-notebooks/blob/master/uplift_trees_with_synthetic_data.ipynb\" target=\"_parent\"><img src=\"https://colab.research.google.com/assets/colab-badge.svg\" alt=\"Open In Colab\"/></a>"
      ]
    },
    {
      "cell_type": "markdown",
      "metadata": {
        "id": "2ChtDZXoYXYV",
        "colab_type": "text"
      },
      "source": [
        "# Introduction\n",
        "\n",
        "CausalML is a Python package that provides a suite of uplift modeling and causal inference methods using machine learning algorithms based on recent research. The package currently supports the following methods:\n",
        "\n",
        "Tree-based algorithms\n",
        "* Uplift tree/random forests on KL divergence, Euclidean Distance, and Chi-Square\n",
        "* Uplift tree/random forests on Contextual Treatment Selection\n",
        "\n",
        "Meta-learner algorithms\n",
        "* S-learner\n",
        "* T-learner\n",
        "* X-learner\n",
        "* R-learner\n",
        "\n",
        "In this notebook, we use synthetic data to demonstrate the use of the tree-based algorithms."
      ]
    },
    {
      "cell_type": "code",
      "metadata": {
        "id": "H9QnMY6zDCwm",
        "colab_type": "code",
        "colab": {}
      },
      "source": [
        "!pip install -U setuptools>=41.0.0 pip>=10.0 numpy>=0.16.0 \"scipy<1.3.0\" matplotlib==2.2.4  pandas>=0.25.1 scikit-learn==0.20.3  statsmodels>=0.9.0 seaborn Cython xgboost==0.82 future\n"
      ],
      "execution_count": 0,
      "outputs": []
    },
    {
      "cell_type": "code",
      "metadata": {
        "id": "KpOBGRK1Yen-",
        "colab_type": "code",
        "outputId": "928e12ab-af57-4b21-dde2-7ed48a1a8a61",
        "colab": {
          "base_uri": "https://localhost:8080/",
          "height": 377
        }
      },
      "source": [
        "!pip install causalml"
      ],
      "execution_count": 2,
      "outputs": [
        {
          "output_type": "stream",
          "text": [
            "Requirement already satisfied: causalml in /usr/local/lib/python3.6/dist-packages (0.3.0)\n",
            "Requirement already satisfied: Cython in /usr/local/lib/python3.6/dist-packages (from causalml) (0.29.13)\n",
            "Requirement already satisfied: matplotlib==2.2.4 in /usr/local/lib/python3.6/dist-packages (from causalml) (2.2.4)\n",
            "Requirement already satisfied: xgboost==0.82 in /usr/local/lib/python3.6/dist-packages (from causalml) (0.82)\n",
            "Requirement already satisfied: numpy>=0.16.0 in /usr/local/lib/python3.6/dist-packages (from causalml) (1.17.2)\n",
            "Requirement already satisfied: pandas>=0.24.1 in /usr/local/lib/python3.6/dist-packages (from causalml) (0.25.1)\n",
            "Requirement already satisfied: pip>=10.0 in /usr/local/lib/python3.6/dist-packages (from causalml) (19.2.3)\n",
            "Requirement already satisfied: scikit-learn==0.20.3 in /usr/local/lib/python3.6/dist-packages (from causalml) (0.20.3)\n",
            "Requirement already satisfied: statsmodels>=0.9.0 in /usr/local/lib/python3.6/dist-packages (from causalml) (0.10.1)\n",
            "Requirement already satisfied: future in /usr/local/lib/python3.6/dist-packages (from causalml) (0.17.1)\n",
            "Requirement already satisfied: scipy<1.3.0 in /usr/local/lib/python3.6/dist-packages (from causalml) (1.2.2)\n",
            "Requirement already satisfied: seaborn in /usr/local/lib/python3.6/dist-packages (from causalml) (0.9.0)\n",
            "Requirement already satisfied: setuptools>=41.0.0 in /usr/local/lib/python3.6/dist-packages (from causalml) (41.2.0)\n",
            "Requirement already satisfied: pyparsing!=2.0.4,!=2.1.2,!=2.1.6,>=2.0.1 in /usr/local/lib/python3.6/dist-packages (from matplotlib==2.2.4->causalml) (2.4.2)\n",
            "Requirement already satisfied: pytz in /usr/local/lib/python3.6/dist-packages (from matplotlib==2.2.4->causalml) (2018.9)\n",
            "Requirement already satisfied: cycler>=0.10 in /usr/local/lib/python3.6/dist-packages (from matplotlib==2.2.4->causalml) (0.10.0)\n",
            "Requirement already satisfied: six>=1.10 in /usr/local/lib/python3.6/dist-packages (from matplotlib==2.2.4->causalml) (1.12.0)\n",
            "Requirement already satisfied: kiwisolver>=1.0.1 in /usr/local/lib/python3.6/dist-packages (from matplotlib==2.2.4->causalml) (1.1.0)\n",
            "Requirement already satisfied: python-dateutil>=2.1 in /usr/local/lib/python3.6/dist-packages (from matplotlib==2.2.4->causalml) (2.8.0)\n",
            "Requirement already satisfied: patsy>=0.4.0 in /usr/local/lib/python3.6/dist-packages (from statsmodels>=0.9.0->causalml) (0.5.1)\n"
          ],
          "name": "stdout"
        }
      ]
    },
    {
      "cell_type": "code",
      "metadata": {
        "id": "pvKk1pUjYXYb",
        "colab_type": "code",
        "colab": {}
      },
      "source": [
        "import numpy as np\n",
        "import pandas as pd\n",
        "\n",
        "from causalml.dataset import make_uplift_classification\n",
        "from causalml.inference.tree import UpliftRandomForestClassifier\n",
        "from causalml.metrics import plot_gain\n",
        "\n",
        "from sklearn.model_selection import train_test_split"
      ],
      "execution_count": 0,
      "outputs": []
    },
    {
      "cell_type": "markdown",
      "metadata": {
        "id": "rsSZPneSYXYs",
        "colab_type": "text"
      },
      "source": [
        "## Generate synthetic dataset\n",
        "\n",
        "データ生成\n"
      ]
    },
    {
      "cell_type": "code",
      "metadata": {
        "id": "tRfx0H76YXYw",
        "colab_type": "code",
        "colab": {}
      },
      "source": [
        "df, x_names = make_uplift_classification()"
      ],
      "execution_count": 0,
      "outputs": []
    },
    {
      "cell_type": "code",
      "metadata": {
        "id": "zecGb8x_YXY7",
        "colab_type": "code",
        "outputId": "60f06ed8-2c6e-4d39-8f2b-510b496be7d7",
        "colab": {
          "base_uri": "https://localhost:8080/",
          "height": 224
        }
      },
      "source": [
        "df.head()"
      ],
      "execution_count": 5,
      "outputs": [
        {
          "output_type": "execute_result",
          "data": {
            "text/html": [
              "<div>\n",
              "<style scoped>\n",
              "    .dataframe tbody tr th:only-of-type {\n",
              "        vertical-align: middle;\n",
              "    }\n",
              "\n",
              "    .dataframe tbody tr th {\n",
              "        vertical-align: top;\n",
              "    }\n",
              "\n",
              "    .dataframe thead th {\n",
              "        text-align: right;\n",
              "    }\n",
              "</style>\n",
              "<table border=\"1\" class=\"dataframe\">\n",
              "  <thead>\n",
              "    <tr style=\"text-align: right;\">\n",
              "      <th></th>\n",
              "      <th>treatment_group_key</th>\n",
              "      <th>x1_informative</th>\n",
              "      <th>x2_informative</th>\n",
              "      <th>x3_informative</th>\n",
              "      <th>x4_informative</th>\n",
              "      <th>x5_informative</th>\n",
              "      <th>x6_irrelevant</th>\n",
              "      <th>x7_irrelevant</th>\n",
              "      <th>x8_irrelevant</th>\n",
              "      <th>x9_irrelevant</th>\n",
              "      <th>x10_irrelevant</th>\n",
              "      <th>x11_uplift_increase</th>\n",
              "      <th>x12_uplift_increase</th>\n",
              "      <th>x13_increase_mix</th>\n",
              "      <th>x14_uplift_increase</th>\n",
              "      <th>x15_uplift_increase</th>\n",
              "      <th>x16_increase_mix</th>\n",
              "      <th>x17_uplift_increase</th>\n",
              "      <th>x18_uplift_increase</th>\n",
              "      <th>x19_increase_mix</th>\n",
              "      <th>conversion</th>\n",
              "    </tr>\n",
              "  </thead>\n",
              "  <tbody>\n",
              "    <tr>\n",
              "      <td>0</td>\n",
              "      <td>control</td>\n",
              "      <td>-0.542888</td>\n",
              "      <td>1.976361</td>\n",
              "      <td>-0.531359</td>\n",
              "      <td>-2.354211</td>\n",
              "      <td>-0.380629</td>\n",
              "      <td>-2.614321</td>\n",
              "      <td>-0.128893</td>\n",
              "      <td>0.448689</td>\n",
              "      <td>-2.275192</td>\n",
              "      <td>-0.934969</td>\n",
              "      <td>0.656869</td>\n",
              "      <td>-1.315304</td>\n",
              "      <td>0.742654</td>\n",
              "      <td>1.891699</td>\n",
              "      <td>-2.428395</td>\n",
              "      <td>1.541875</td>\n",
              "      <td>-0.817705</td>\n",
              "      <td>-0.610194</td>\n",
              "      <td>-0.591581</td>\n",
              "      <td>0</td>\n",
              "    </tr>\n",
              "    <tr>\n",
              "      <td>1</td>\n",
              "      <td>treatment3</td>\n",
              "      <td>0.258654</td>\n",
              "      <td>0.552412</td>\n",
              "      <td>1.434239</td>\n",
              "      <td>-1.422311</td>\n",
              "      <td>0.089131</td>\n",
              "      <td>0.790293</td>\n",
              "      <td>1.159513</td>\n",
              "      <td>1.578868</td>\n",
              "      <td>0.166540</td>\n",
              "      <td>-0.356051</td>\n",
              "      <td>1.050526</td>\n",
              "      <td>-1.391878</td>\n",
              "      <td>-0.623243</td>\n",
              "      <td>2.443972</td>\n",
              "      <td>-2.889253</td>\n",
              "      <td>2.018585</td>\n",
              "      <td>-1.109296</td>\n",
              "      <td>-0.380362</td>\n",
              "      <td>-1.667606</td>\n",
              "      <td>0</td>\n",
              "    </tr>\n",
              "    <tr>\n",
              "      <td>2</td>\n",
              "      <td>treatment1</td>\n",
              "      <td>1.697012</td>\n",
              "      <td>-2.762600</td>\n",
              "      <td>-0.662874</td>\n",
              "      <td>-1.682340</td>\n",
              "      <td>1.217443</td>\n",
              "      <td>0.837982</td>\n",
              "      <td>1.042981</td>\n",
              "      <td>0.177398</td>\n",
              "      <td>-0.112409</td>\n",
              "      <td>1.374859</td>\n",
              "      <td>1.072329</td>\n",
              "      <td>-1.132497</td>\n",
              "      <td>1.050179</td>\n",
              "      <td>1.573054</td>\n",
              "      <td>-1.788427</td>\n",
              "      <td>1.341609</td>\n",
              "      <td>-0.749227</td>\n",
              "      <td>-2.091521</td>\n",
              "      <td>-0.471386</td>\n",
              "      <td>0</td>\n",
              "    </tr>\n",
              "    <tr>\n",
              "      <td>3</td>\n",
              "      <td>treatment2</td>\n",
              "      <td>-1.441644</td>\n",
              "      <td>1.823648</td>\n",
              "      <td>0.789423</td>\n",
              "      <td>-0.295398</td>\n",
              "      <td>0.718509</td>\n",
              "      <td>-0.492993</td>\n",
              "      <td>0.947824</td>\n",
              "      <td>-1.307887</td>\n",
              "      <td>0.123340</td>\n",
              "      <td>-1.957101</td>\n",
              "      <td>1.398966</td>\n",
              "      <td>-2.084619</td>\n",
              "      <td>0.058481</td>\n",
              "      <td>1.369439</td>\n",
              "      <td>0.422538</td>\n",
              "      <td>1.087176</td>\n",
              "      <td>-0.966666</td>\n",
              "      <td>-1.785592</td>\n",
              "      <td>-1.268379</td>\n",
              "      <td>1</td>\n",
              "    </tr>\n",
              "    <tr>\n",
              "      <td>4</td>\n",
              "      <td>control</td>\n",
              "      <td>-0.625074</td>\n",
              "      <td>3.002388</td>\n",
              "      <td>-0.096288</td>\n",
              "      <td>1.938235</td>\n",
              "      <td>3.392424</td>\n",
              "      <td>-0.465860</td>\n",
              "      <td>-0.919897</td>\n",
              "      <td>-1.072592</td>\n",
              "      <td>-1.331181</td>\n",
              "      <td>-0.824105</td>\n",
              "      <td>1.398327</td>\n",
              "      <td>-1.403984</td>\n",
              "      <td>0.760430</td>\n",
              "      <td>1.917635</td>\n",
              "      <td>-2.347675</td>\n",
              "      <td>1.560946</td>\n",
              "      <td>-0.833067</td>\n",
              "      <td>-1.407884</td>\n",
              "      <td>-0.781343</td>\n",
              "      <td>0</td>\n",
              "    </tr>\n",
              "  </tbody>\n",
              "</table>\n",
              "</div>"
            ],
            "text/plain": [
              "  treatment_group_key  x1_informative  ...  x19_increase_mix  conversion\n",
              "0             control       -0.542888  ...         -0.591581           0\n",
              "1          treatment3        0.258654  ...         -1.667606           0\n",
              "2          treatment1        1.697012  ...         -0.471386           0\n",
              "3          treatment2       -1.441644  ...         -1.268379           1\n",
              "4             control       -0.625074  ...         -0.781343           0\n",
              "\n",
              "[5 rows x 21 columns]"
            ]
          },
          "metadata": {
            "tags": []
          },
          "execution_count": 5
        }
      ]
    },
    {
      "cell_type": "code",
      "metadata": {
        "id": "B3b1PvRhY1LZ",
        "colab_type": "code",
        "outputId": "7b3409f4-c954-4e66-896b-5be742455fa9",
        "colab": {
          "base_uri": "https://localhost:8080/",
          "height": 340
        }
      },
      "source": [
        "x_names"
      ],
      "execution_count": 6,
      "outputs": [
        {
          "output_type": "execute_result",
          "data": {
            "text/plain": [
              "['x1_informative',\n",
              " 'x2_informative',\n",
              " 'x3_informative',\n",
              " 'x4_informative',\n",
              " 'x5_informative',\n",
              " 'x6_irrelevant',\n",
              " 'x7_irrelevant',\n",
              " 'x8_irrelevant',\n",
              " 'x9_irrelevant',\n",
              " 'x10_irrelevant',\n",
              " 'x11_uplift_increase',\n",
              " 'x12_uplift_increase',\n",
              " 'x13_increase_mix',\n",
              " 'x14_uplift_increase',\n",
              " 'x15_uplift_increase',\n",
              " 'x16_increase_mix',\n",
              " 'x17_uplift_increase',\n",
              " 'x18_uplift_increase',\n",
              " 'x19_increase_mix']"
            ]
          },
          "metadata": {
            "tags": []
          },
          "execution_count": 6
        }
      ]
    },
    {
      "cell_type": "code",
      "metadata": {
        "id": "MERL7VTjYXZI",
        "colab_type": "code",
        "outputId": "7ecb402e-9a70-44cf-8bec-62a20017ec7f",
        "colab": {
          "base_uri": "https://localhost:8080/",
          "height": 266
        }
      },
      "source": [
        "# Look at the conversion rate and sample size in each group\n",
        "df.pivot_table(values='conversion',\n",
        "               index='treatment_group_key',\n",
        "               aggfunc=[np.mean, np.size],\n",
        "               margins=True)"
      ],
      "execution_count": 7,
      "outputs": [
        {
          "output_type": "execute_result",
          "data": {
            "text/html": [
              "<div>\n",
              "<style scoped>\n",
              "    .dataframe tbody tr th:only-of-type {\n",
              "        vertical-align: middle;\n",
              "    }\n",
              "\n",
              "    .dataframe tbody tr th {\n",
              "        vertical-align: top;\n",
              "    }\n",
              "\n",
              "    .dataframe thead tr th {\n",
              "        text-align: left;\n",
              "    }\n",
              "\n",
              "    .dataframe thead tr:last-of-type th {\n",
              "        text-align: right;\n",
              "    }\n",
              "</style>\n",
              "<table border=\"1\" class=\"dataframe\">\n",
              "  <thead>\n",
              "    <tr>\n",
              "      <th></th>\n",
              "      <th>mean</th>\n",
              "      <th>size</th>\n",
              "    </tr>\n",
              "    <tr>\n",
              "      <th></th>\n",
              "      <th>conversion</th>\n",
              "      <th>conversion</th>\n",
              "    </tr>\n",
              "    <tr>\n",
              "      <th>treatment_group_key</th>\n",
              "      <th></th>\n",
              "      <th></th>\n",
              "    </tr>\n",
              "  </thead>\n",
              "  <tbody>\n",
              "    <tr>\n",
              "      <td>control</td>\n",
              "      <td>0.511</td>\n",
              "      <td>1000</td>\n",
              "    </tr>\n",
              "    <tr>\n",
              "      <td>treatment1</td>\n",
              "      <td>0.514</td>\n",
              "      <td>1000</td>\n",
              "    </tr>\n",
              "    <tr>\n",
              "      <td>treatment2</td>\n",
              "      <td>0.559</td>\n",
              "      <td>1000</td>\n",
              "    </tr>\n",
              "    <tr>\n",
              "      <td>treatment3</td>\n",
              "      <td>0.600</td>\n",
              "      <td>1000</td>\n",
              "    </tr>\n",
              "    <tr>\n",
              "      <td>All</td>\n",
              "      <td>0.546</td>\n",
              "      <td>4000</td>\n",
              "    </tr>\n",
              "  </tbody>\n",
              "</table>\n",
              "</div>"
            ],
            "text/plain": [
              "                          mean       size\n",
              "                    conversion conversion\n",
              "treatment_group_key                      \n",
              "control                  0.511       1000\n",
              "treatment1               0.514       1000\n",
              "treatment2               0.559       1000\n",
              "treatment3               0.600       1000\n",
              "All                      0.546       4000"
            ]
          },
          "metadata": {
            "tags": []
          },
          "execution_count": 7
        }
      ]
    },
    {
      "cell_type": "markdown",
      "metadata": {
        "id": "6eHQ06PEYXZT",
        "colab_type": "text"
      },
      "source": [
        "# Run the uplift random forest classifier\n",
        "\n",
        "In this section, we first fit the uplift random forest classifier using training data. We then use the fitted model to make a prediction using testing data. The prediction returns an ndarray in which each column contains the predicted uplift if the unit was in the corresponding treatment group.\n",
        "\n",
        "学習させる。testデータを使って予測、treatmentに対して、uplift具合がわかる"
      ]
    },
    {
      "cell_type": "code",
      "metadata": {
        "id": "2A80LUjNYXZW",
        "colab_type": "code",
        "colab": {}
      },
      "source": [
        "# Split data to training and testing samples for model validation (next section)\n",
        "df_train, df_test = train_test_split(df, test_size=0.2, random_state=111)"
      ],
      "execution_count": 0,
      "outputs": []
    },
    {
      "cell_type": "code",
      "metadata": {
        "id": "XbuguaKjYXZg",
        "colab_type": "code",
        "colab": {}
      },
      "source": [
        "uplift_model = UpliftRandomForestClassifier(control_name='control')"
      ],
      "execution_count": 0,
      "outputs": []
    },
    {
      "cell_type": "code",
      "metadata": {
        "id": "6d8kFNW6YXZs",
        "colab_type": "code",
        "colab": {}
      },
      "source": [
        "uplift_model.fit(df_train[x_names].values,\n",
        "                 treatment=df_train['treatment_group_key'].values,\n",
        "                 y=df_train['conversion'].values)"
      ],
      "execution_count": 0,
      "outputs": []
    },
    {
      "cell_type": "code",
      "metadata": {
        "id": "6j49BDaBYXZ-",
        "colab_type": "code",
        "colab": {}
      },
      "source": [
        "y_pred = uplift_model.predict(df_test[x_names].values)"
      ],
      "execution_count": 0,
      "outputs": []
    },
    {
      "cell_type": "code",
      "metadata": {
        "id": "c6rD0iwpYXaJ",
        "colab_type": "code",
        "colab": {}
      },
      "source": [
        "# Put the predictions to a DataFrame for a neater presentation\n",
        "# 各群がどこのクラスにいるか？？？\n",
        "result = pd.DataFrame(y_pred,\n",
        "                      columns=uplift_model.classes_)"
      ],
      "execution_count": 0,
      "outputs": []
    },
    {
      "cell_type": "code",
      "metadata": {
        "id": "onvlroMwbsNJ",
        "colab_type": "code",
        "outputId": "ca9d9385-2dca-4b9f-8dc2-aa8e1ab8969e",
        "colab": {
          "base_uri": "https://localhost:8080/",
          "height": 419
        }
      },
      "source": [
        "# 各群へのスコア\n",
        "result"
      ],
      "execution_count": 13,
      "outputs": [
        {
          "output_type": "execute_result",
          "data": {
            "text/html": [
              "<div>\n",
              "<style scoped>\n",
              "    .dataframe tbody tr th:only-of-type {\n",
              "        vertical-align: middle;\n",
              "    }\n",
              "\n",
              "    .dataframe tbody tr th {\n",
              "        vertical-align: top;\n",
              "    }\n",
              "\n",
              "    .dataframe thead th {\n",
              "        text-align: right;\n",
              "    }\n",
              "</style>\n",
              "<table border=\"1\" class=\"dataframe\">\n",
              "  <thead>\n",
              "    <tr style=\"text-align: right;\">\n",
              "      <th></th>\n",
              "      <th>treatment1</th>\n",
              "      <th>treatment2</th>\n",
              "      <th>treatment3</th>\n",
              "    </tr>\n",
              "  </thead>\n",
              "  <tbody>\n",
              "    <tr>\n",
              "      <td>0</td>\n",
              "      <td>-0.052461</td>\n",
              "      <td>0.028544</td>\n",
              "      <td>0.062568</td>\n",
              "    </tr>\n",
              "    <tr>\n",
              "      <td>1</td>\n",
              "      <td>0.001432</td>\n",
              "      <td>0.090935</td>\n",
              "      <td>0.004034</td>\n",
              "    </tr>\n",
              "    <tr>\n",
              "      <td>2</td>\n",
              "      <td>0.030645</td>\n",
              "      <td>0.110449</td>\n",
              "      <td>-0.014406</td>\n",
              "    </tr>\n",
              "    <tr>\n",
              "      <td>3</td>\n",
              "      <td>0.042346</td>\n",
              "      <td>0.039590</td>\n",
              "      <td>0.360335</td>\n",
              "    </tr>\n",
              "    <tr>\n",
              "      <td>4</td>\n",
              "      <td>0.017587</td>\n",
              "      <td>0.118971</td>\n",
              "      <td>0.331485</td>\n",
              "    </tr>\n",
              "    <tr>\n",
              "      <td>...</td>\n",
              "      <td>...</td>\n",
              "      <td>...</td>\n",
              "      <td>...</td>\n",
              "    </tr>\n",
              "    <tr>\n",
              "      <td>795</td>\n",
              "      <td>0.086275</td>\n",
              "      <td>0.105316</td>\n",
              "      <td>0.406309</td>\n",
              "    </tr>\n",
              "    <tr>\n",
              "      <td>796</td>\n",
              "      <td>-0.035968</td>\n",
              "      <td>0.031619</td>\n",
              "      <td>0.032262</td>\n",
              "    </tr>\n",
              "    <tr>\n",
              "      <td>797</td>\n",
              "      <td>-0.019312</td>\n",
              "      <td>0.070419</td>\n",
              "      <td>0.055174</td>\n",
              "    </tr>\n",
              "    <tr>\n",
              "      <td>798</td>\n",
              "      <td>0.024296</td>\n",
              "      <td>0.096761</td>\n",
              "      <td>-0.031588</td>\n",
              "    </tr>\n",
              "    <tr>\n",
              "      <td>799</td>\n",
              "      <td>0.017037</td>\n",
              "      <td>0.075721</td>\n",
              "      <td>0.271109</td>\n",
              "    </tr>\n",
              "  </tbody>\n",
              "</table>\n",
              "<p>800 rows × 3 columns</p>\n",
              "</div>"
            ],
            "text/plain": [
              "     treatment1  treatment2  treatment3\n",
              "0     -0.052461    0.028544    0.062568\n",
              "1      0.001432    0.090935    0.004034\n",
              "2      0.030645    0.110449   -0.014406\n",
              "3      0.042346    0.039590    0.360335\n",
              "4      0.017587    0.118971    0.331485\n",
              "..          ...         ...         ...\n",
              "795    0.086275    0.105316    0.406309\n",
              "796   -0.035968    0.031619    0.032262\n",
              "797   -0.019312    0.070419    0.055174\n",
              "798    0.024296    0.096761   -0.031588\n",
              "799    0.017037    0.075721    0.271109\n",
              "\n",
              "[800 rows x 3 columns]"
            ]
          },
          "metadata": {
            "tags": []
          },
          "execution_count": 13
        }
      ]
    },
    {
      "cell_type": "markdown",
      "metadata": {
        "id": "MAEAKwqvYXaT",
        "colab_type": "text"
      },
      "source": [
        "# Create the uplift curve\n",
        "\n",
        "The performance of the model can be evaluated with the help of the [uplift curve](http://proceedings.mlr.press/v67/gutierrez17a/gutierrez17a.pdfc). "
      ]
    },
    {
      "cell_type": "markdown",
      "metadata": {
        "id": "ctOX2uehYXaV",
        "colab_type": "text"
      },
      "source": [
        "## Create a synthetic population\n",
        "\n",
        "The uplift curve is calculated on a synthetic population that consists of those that were in the control group and those who happened to be in the treatment group recommended by the model. We use the synthetic population to calculate the _actual_ treatment effect within _predicted_ treatment effect quantiles. Because the data is randomized, we have a roughly equal number of treatment and control observations in the predicted quantiles and there is no self selection to treatment groups.\n",
        "\n",
        " synthetic population、control groupとtreatment group、（モデルにレコメンド：予測された？）からなる\n",
        "\n",
        " 実際の効果を予測結果から測定する、self selection(自己相関的な？)はない？ランダムに生成した値なので、"
      ]
    },
    {
      "cell_type": "code",
      "metadata": {
        "id": "WpNTlMSfYXaZ",
        "colab_type": "code",
        "colab": {}
      },
      "source": [
        "# If all deltas are negative, assing to control; otherwise assign to the treatment\n",
        "# with the highest delta\n",
        "# -の人はcontrolになる、その他は、一番大きい所のtreatmentになる\n",
        "best_treatment = np.where((result < 0).all(axis=1),\n",
        "                           'control',\n",
        "                           result.idxmax(axis=1))\n",
        "\n",
        "# Create indicator variables for whether a unit happened to have the\n",
        "# recommended treatment or was in the control group\n",
        "# 実際に該当するグループだったか、もしくはcontrolだったか\n",
        "actual_is_best = np.where(df_test['treatment_group_key'] == best_treatment, 1, 0)\n",
        "actual_is_control = np.where(df_test['treatment_group_key'] == 'control', 1, 0)"
      ],
      "execution_count": 0,
      "outputs": []
    },
    {
      "cell_type": "code",
      "metadata": {
        "id": "fin3rjsaYXai",
        "colab_type": "code",
        "colab": {}
      },
      "source": [
        "# synthetic population作成\n",
        "synthetic = (actual_is_best == 1) | (actual_is_control == 1)\n",
        "synth = result[synthetic]"
      ],
      "execution_count": 0,
      "outputs": []
    },
    {
      "cell_type": "markdown",
      "metadata": {
        "id": "HbAhJE77YXar",
        "colab_type": "text"
      },
      "source": [
        "## Calculate the observed treatment effect per predicted treatment effect quantile\n",
        "\n",
        "We use the observed treatment effect to calculate the uplift curve, which answers the question: how much of the total cumulative uplift could we have captured by targeting a subset of the population sorted according to the predicted uplift, from highest to lowest?\n",
        "\n",
        "CausalML has the plot_gain() function which calculates the uplift curve given a DataFrame containing the treatment assignment, observed outcome and the predicted treatment effect.\n",
        "\n",
        "観察結果の効果をuplist curveから測定。"
      ]
    },
    {
      "cell_type": "code",
      "metadata": {
        "id": "9tTM_Wf6dHqW",
        "colab_type": "code",
        "outputId": "2f42cd3b-6e1c-45c7-cf57-4f9c4fe41087",
        "colab": {
          "base_uri": "https://localhost:8080/",
          "height": 221
        }
      },
      "source": [
        "df_test['conversion']"
      ],
      "execution_count": 16,
      "outputs": [
        {
          "output_type": "execute_result",
          "data": {
            "text/plain": [
              "2912    0\n",
              "3509    0\n",
              "3098    1\n",
              "3847    0\n",
              "1155    1\n",
              "       ..\n",
              "812     1\n",
              "993     1\n",
              "936     1\n",
              "1927    1\n",
              "154     0\n",
              "Name: conversion, Length: 800, dtype: int64"
            ]
          },
          "metadata": {
            "tags": []
          },
          "execution_count": 16
        }
      ]
    },
    {
      "cell_type": "code",
      "metadata": {
        "id": "jBCtXEckYXau",
        "colab_type": "code",
        "colab": {}
      },
      "source": [
        "auuc_metrics = (synth.assign(is_treated = 1 - actual_is_control[synthetic],\n",
        "                             conversion = df_test.loc[synthetic, 'conversion'].values,\n",
        "                             uplift_tree = synth.max(axis=1))\n",
        "                     .drop(columns=list(uplift_model.classes_)))"
      ],
      "execution_count": 0,
      "outputs": []
    },
    {
      "cell_type": "code",
      "metadata": {
        "id": "GZTAGPTkHMG1",
        "colab_type": "code",
        "outputId": "feffa045-68b9-4213-8e77-e90242a30053",
        "colab": {
          "base_uri": "https://localhost:8080/",
          "height": 142
        }
      },
      "source": [
        "auuc_metrics.groupby('is_treated').sum()"
      ],
      "execution_count": 18,
      "outputs": [
        {
          "output_type": "execute_result",
          "data": {
            "text/html": [
              "<div>\n",
              "<style scoped>\n",
              "    .dataframe tbody tr th:only-of-type {\n",
              "        vertical-align: middle;\n",
              "    }\n",
              "\n",
              "    .dataframe tbody tr th {\n",
              "        vertical-align: top;\n",
              "    }\n",
              "\n",
              "    .dataframe thead th {\n",
              "        text-align: right;\n",
              "    }\n",
              "</style>\n",
              "<table border=\"1\" class=\"dataframe\">\n",
              "  <thead>\n",
              "    <tr style=\"text-align: right;\">\n",
              "      <th></th>\n",
              "      <th>conversion</th>\n",
              "      <th>uplift_tree</th>\n",
              "    </tr>\n",
              "    <tr>\n",
              "      <th>is_treated</th>\n",
              "      <th></th>\n",
              "      <th></th>\n",
              "    </tr>\n",
              "  </thead>\n",
              "  <tbody>\n",
              "    <tr>\n",
              "      <td>0</td>\n",
              "      <td>97</td>\n",
              "      <td>28.046948</td>\n",
              "    </tr>\n",
              "    <tr>\n",
              "      <td>1</td>\n",
              "      <td>114</td>\n",
              "      <td>26.136761</td>\n",
              "    </tr>\n",
              "  </tbody>\n",
              "</table>\n",
              "</div>"
            ],
            "text/plain": [
              "            conversion  uplift_tree\n",
              "is_treated                         \n",
              "0                   97    28.046948\n",
              "1                  114    26.136761"
            ]
          },
          "metadata": {
            "tags": []
          },
          "execution_count": 18
        }
      ]
    },
    {
      "cell_type": "code",
      "metadata": {
        "id": "R0YwJK2hYXa3",
        "colab_type": "code",
        "outputId": "7905b4d5-99c9-48b0-9ebd-826521d7cb82",
        "colab": {
          "base_uri": "https://localhost:8080/",
          "height": 537
        }
      },
      "source": [
        "# conversionは 1/0\n",
        "# 左が、population少ない、すなわちcontrolを混ぜない？つまり実験群の方が、効果が大きい？\n",
        "plot_gain(auuc_metrics, outcome_col='conversion', treatment_col='is_treated')"
      ],
      "execution_count": 19,
      "outputs": [
        {
          "output_type": "display_data",
          "data": {
            "image/png": "[encoded data removed]",
            "text/plain": [
              "<Figure size 576x576 with 1 Axes>"
            ]
          },
          "metadata": {
            "tags": []
          }
        }
      ]
    },
    {
      "cell_type": "code",
      "metadata": {
        "id": "-zbVj6skc83p",
        "colab_type": "code",
        "colab": {}
      },
      "source": [
        ""
      ],
      "execution_count": 0,
      "outputs": []
    }
  ]
}