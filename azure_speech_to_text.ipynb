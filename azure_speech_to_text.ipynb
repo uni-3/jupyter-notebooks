{
  "nbformat": 4,
  "nbformat_minor": 0,
  "metadata": {
    "colab": {
      "name": "azure-speech-to-text.ipynb",
      "version": "0.3.2",
      "provenance": [],
      "collapsed_sections": [],
      "include_colab_link": true
    },
    "kernelspec": {
      "name": "python3",
      "display_name": "Python 3"
    }
  },
  "cells": [
    {
      "cell_type": "markdown",
      "metadata": {
        "id": "view-in-github",
        "colab_type": "text"
      },
      "source": [
        "<a href=\"https://colab.research.google.com/github/uni-3/jupyter-notebooks/blob/master/azure_speech_to_text.ipynb\" target=\"_parent\"><img src=\"https://colab.research.google.com/assets/colab-badge.svg\" alt=\"Open In Colab\"/></a>"
      ]
    },
    {
      "cell_type": "code",
      "metadata": {
        "id": "QJaqnB-xMBvA",
        "colab_type": "code",
        "colab": {}
      },
      "source": [
        "# refer here https://github.com/Azure-Samples/cognitive-services-speech-sdk/blob/master/quickstart/python/quickstart.ipynb\n",
        "!pip install azure-cognitiveservices-speech"
      ],
      "execution_count": 0,
      "outputs": []
    },
    {
      "cell_type": "code",
      "metadata": {
        "id": "fI7xDjRaMVoc",
        "colab_type": "code",
        "colab": {}
      },
      "source": [
        "import time\n",
        "import azure.cognitiveservices.speech as speechsdk"
      ],
      "execution_count": 0,
      "outputs": []
    },
    {
      "cell_type": "code",
      "metadata": {
        "id": "L4QOu5fNRoft",
        "colab_type": "code",
        "outputId": "4aabb5ac-94e6-4d94-b2a9-3dd94f6d3eaa",
        "colab": {
          "base_uri": "https://localhost:8080/",
          "height": 122
        }
      },
      "source": [
        "# google drive内のをディレクトリをマウント\n",
        "from google.colab import drive\n",
        "drive.mount('/content/gdrive')"
      ],
      "execution_count": 0,
      "outputs": [
        {
          "output_type": "stream",
          "text": [
            "Go to this URL in a browser: https://accounts.google.com/o/oauth2/auth?client_id=947318989803-6bn6qk8qdgf4n4g3pfee6491hc0brc4i.apps.googleusercontent.com&redirect_uri=urn%3Aietf%3Awg%3Aoauth%3A2.0%3Aoob&scope=email%20https%3A%2F%2Fwww.googleapis.com%2Fauth%2Fdocs.test%20https%3A%2F%2Fwww.googleapis.com%2Fauth%2Fdrive%20https%3A%2F%2Fwww.googleapis.com%2Fauth%2Fdrive.photos.readonly%20https%3A%2F%2Fwww.googleapis.com%2Fauth%2Fpeopleapi.readonly&response_type=code\n",
            "\n",
            "Enter your authorization code:\n",
            "··········\n",
            "Mounted at /content/gdrive\n"
          ],
          "name": "stdout"
        }
      ]
    },
    {
      "cell_type": "code",
      "metadata": {
        "id": "ylPzTaHbUGgn",
        "colab_type": "code",
        "colab": {}
      },
      "source": [
        "!ls ./gdrive/'My Drive'/\"Colab Notebooks\""
      ],
      "execution_count": 0,
      "outputs": []
    },
    {
      "cell_type": "code",
      "metadata": {
        "id": "drFyDYsYUYDq",
        "colab_type": "code",
        "colab": {}
      },
      "source": [
        "path = './gdrive/My Drive/Colab Notebooks/'\n",
        "filename = path + 'TBS_2017072310_cut_3min.wav'\n",
        "# fileの存在確認\n",
        "# import os\n",
        "# os.path.exists(filename)"
      ],
      "execution_count": 0,
      "outputs": []
    },
    {
      "cell_type": "code",
      "metadata": {
        "id": "4AQROw_bNJIn",
        "colab_type": "code",
        "cellView": "both",
        "colab": {}
      },
      "source": [
        "#@title init api config\n",
        "speech_key = \"\" #@param {type:\"string\"}\n",
        "service_region = \"westus\"\n",
        "language = 'ja-JP'"
      ],
      "execution_count": 0,
      "outputs": []
    },
    {
      "cell_type": "code",
      "metadata": {
        "id": "x3EPf19lZPji",
        "colab_type": "code",
        "colab": {}
      },
      "source": [
        "# recognisionResult class\n",
        "# https://docs.microsoft.com/en-us/python/api/azure-cognitiveservices-speech/azure.cognitiveservices.speech.recognitionresult?view=azure-python\n",
        "def speech_recognize_continuous_from_file():\n",
        "    \"\"\"performs continuous speech recognition with input from an audio file\"\"\"\n",
        "    # <SpeechContinuousRecognitionWithFile>\n",
        "    speech_config = speechsdk.SpeechConfig(subscription=speech_key, region=service_region, speech_recognition_language=language)\n",
        "    audio_config = speechsdk.audio.AudioConfig(filename=filename)\n",
        "\n",
        "    speech_recognizer = speechsdk.SpeechRecognizer(speech_config=speech_config, audio_config=audio_config)\n",
        "\n",
        "    done = False\n",
        "\n",
        "    def stop_cb(evt):\n",
        "        \"\"\"callback that stops continuous recognition upon receiving an event `evt`\"\"\"\n",
        "        print('CLOSING on {}'.format(evt))\n",
        "        speech_recognizer.stop_continuous_recognition()\n",
        "        nonlocal done\n",
        "        done = True\n",
        "    \n",
        "    # get result text as list\n",
        "    results = []\n",
        "    def recog_cb(evt):\n",
        "      print('RECOGNIZED: {}'.format(evt))\n",
        "      results.append(evt.result.text)\n",
        "      return results\n",
        "\n",
        "    # Connect callbacks to the events fired by the speech recognizer\n",
        "    speech_recognizer.recognizing.connect(lambda evt: print('RECOGNIZING: {}'.format(evt)))\n",
        "    #speech_recognizer.recognizing.connect(recog_cb)\n",
        "    #speech_recognizer.recognized.connect(lambda evt: print('RECOGNIZED: {}'.format(evt)))\n",
        "    speech_recognizer.recognized.connect(recog_cb)\n",
        "    speech_recognizer.session_started.connect(lambda evt: print('SESSION STARTED: {}'.format(evt)))\n",
        "    speech_recognizer.session_stopped.connect(lambda evt: print('SESSION STOPPED {}'.format(evt)))\n",
        "    speech_recognizer.canceled.connect(lambda evt: print('CANCELED {}'.format(evt)))\n",
        "    # stop continuous recognition on either session stopped or canceled events\n",
        "    speech_recognizer.session_stopped.connect(stop_cb)\n",
        "    speech_recognizer.canceled.connect(stop_cb)\n",
        "\n",
        "    # Start continuous speech recognition\n",
        "    speech_recognizer.start_continuous_recognition()\n",
        "    while not done:\n",
        "        time.sleep(.5)\n",
        "    # </SpeechContinuousRecognitionWithFile>\n",
        "    \n",
        "    return results"
      ],
      "execution_count": 0,
      "outputs": []
    },
    {
      "cell_type": "code",
      "metadata": {
        "id": "WQCM2xrTabAy",
        "colab_type": "code",
        "colab": {}
      },
      "source": [
        "results = speech_recognize_continuous_from_file()"
      ],
      "execution_count": 0,
      "outputs": []
    },
    {
      "cell_type": "code",
      "metadata": {
        "id": "RBjgYcRQc8G2",
        "colab_type": "code",
        "outputId": "41f42a65-2c59-4dd6-9be5-6e1d21633f17",
        "colab": {
          "base_uri": "https://localhost:8080/",
          "height": 54
        }
      },
      "source": [
        "print(results)"
      ],
      "execution_count": 0,
      "outputs": [
        {
          "output_type": "stream",
          "text": [
            "['勉強した方がこれを早くしているところでちょっとこうした状況なんでしょうねだと思うんだよしています。そうすると変わるじゃないですか、そうだからあのやっぱり素晴らしい名を残しておきたいなと思いまして消えるわけも応援と思う危険なんですよねけないと思ってたんですよ。', 'ほら、私興味あるスタンドで取材したときに作調整方向から。', '上にんぐ特徴が聞こえてきて変動してだろうと思って泣いたんですよね。あのもう開いと思ってたのであええと思ったら削除せない。', '藤原監督がもともと pl の出身で pl で監督やられてってうつって削除性にこれで？', 'お野球部の部員の提案でビールのを継承したいということで使われたと聞いてますねはいメモを応援がそうですね。県の野球部で蘇る。すねはあさて、それでは嬉しさが監修した cd の中から一曲を聞いたときたいとおもいます。演奏はシンフォニックウィンドウ。', 'アンサンブル二十一掛け声は私出ています。川越東高等学校吹奏楽部のみなさんです。アフリカの進歩にどうぞ。', 'atf。', '', 'atf。', 'atf。', 'atf。', 'さあ改めまして経ゲストにお迎えしていますのは高校野球部ラバン応援研究科の梅つゆき子さんです。', '嫁さんのこれまでの研究結果をまとめた。五本プラバン甲子園たい研究は、文藝春秋社から税別1200円で発売中です。', 'そして不滅さんにとっては、こちらも本業ということで手軽に作れるお料理のはい今夜も終電ごはんが幻冬舎から税別1000円で発売。']\n"
          ],
          "name": "stdout"
        }
      ]
    },
    {
      "cell_type": "code",
      "metadata": {
        "id": "coNehTUvkrKK",
        "colab_type": "code",
        "colab": {}
      },
      "source": [
        "# save to file\n",
        "with open(path + 'result.txt', 'w') as f:\n",
        "  f.writelines([\"%s\\n\" % result for result in results])"
      ],
      "execution_count": 0,
      "outputs": []
    },
    {
      "cell_type": "markdown",
      "metadata": {
        "id": "TVZc0CMoYaEY",
        "colab_type": "text"
      },
      "source": [
        "### Text Analytics Cognitive Service\n",
        "https://docs.microsoft.com/en-us/azure/cognitive-services/Text-Analytics/QuickStarts/Python"
      ]
    },
    {
      "cell_type": "code",
      "metadata": {
        "id": "3qReYgzmfNJW",
        "colab_type": "code",
        "colab": {}
      },
      "source": [
        "import requests\n",
        "from pprint import pprint\n",
        "from IPython.display import HTML"
      ],
      "execution_count": 0,
      "outputs": []
    },
    {
      "cell_type": "code",
      "metadata": {
        "id": "7KlzYvTHYoiN",
        "colab_type": "code",
        "colab": {},
        "cellView": "both"
      },
      "source": [
        "#@title init api config\n",
        "api_key = \"\" #@param {type:\"string\"}\n",
        "service_region = \"westus\"\n",
        "language = 'ja-JP'"
      ],
      "execution_count": 0,
      "outputs": []
    },
    {
      "cell_type": "code",
      "metadata": {
        "id": "GeLEc-tSYtWQ",
        "colab_type": "code",
        "colab": {}
      },
      "source": [
        "text_analytics_base_url = \"https://westus.api.cognitive.microsoft.com/text/analytics/v2.0/\""
      ],
      "execution_count": 0,
      "outputs": []
    },
    {
      "cell_type": "markdown",
      "metadata": {
        "id": "1XyN9NnPZERA",
        "colab_type": "text"
      },
      "source": [
        "#### sentiment api"
      ]
    },
    {
      "cell_type": "code",
      "metadata": {
        "id": "7MvHK1REYzUO",
        "colab_type": "code",
        "colab": {}
      },
      "source": [
        "sentiment_api_url = text_analytics_base_url + \"sentiment\"\n"
      ],
      "execution_count": 0,
      "outputs": []
    },
    {
      "cell_type": "code",
      "metadata": {
        "id": "hMB8_ItDZGUK",
        "colab_type": "code",
        "colab": {}
      },
      "source": [
        "documents = {'documents' : [\n",
        "  {'id': '1', 'language': 'ja', 'text': '外国はここよりずっと遠いから友達の置いてゆく自転車'},\n",
        "  {'id': '2', 'language': 'ja', 'text': 'Smoking kills. Smokers die younger. Smoking harms you and others.'},  \n",
        "  {'id': '3', 'language': 'ja', 'text': '携帯のデフォルトのアラームが鳴り、もう一度鳴り、あなたは起きる。'}\n",
        "]}"
      ],
      "execution_count": 0,
      "outputs": []
    },
    {
      "cell_type": "code",
      "metadata": {
        "id": "bkipo736ZfoP",
        "colab_type": "code",
        "colab": {}
      },
      "source": [
        "headers   = {\"Ocp-Apim-Subscription-Key\": api_key}\n",
        "response  = requests.post(sentiment_api_url, headers=headers, json=documents)\n",
        "sentiments = response.json()"
      ],
      "execution_count": 0,
      "outputs": []
    },
    {
      "cell_type": "code",
      "metadata": {
        "id": "Muw5SkUoZjDJ",
        "colab_type": "code",
        "colab": {
          "base_uri": "https://localhost:8080/",
          "height": 85
        },
        "outputId": "47cf9d2a-26b5-4ef3-ee36-7210a5770a2a"
      },
      "source": [
        "pprint(sentiments)"
      ],
      "execution_count": 25,
      "outputs": [
        {
          "output_type": "stream",
          "text": [
            "{'documents': [{'id': '1', 'score': 0.24311727285385132},\n",
            "               {'id': '2', 'score': 0.5},\n",
            "               {'id': '3', 'score': 0.409498929977417}],\n",
            " 'errors': []}\n"
          ],
          "name": "stdout"
        }
      ]
    },
    {
      "cell_type": "code",
      "metadata": {
        "id": "0mBwOdKSZlz6",
        "colab_type": "code",
        "colab": {}
      },
      "source": [
        ""
      ],
      "execution_count": 0,
      "outputs": []
    }
  ]
}