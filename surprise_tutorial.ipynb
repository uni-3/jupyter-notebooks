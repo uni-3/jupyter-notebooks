{
  "nbformat": 4,
  "nbformat_minor": 0,
  "metadata": {
    "colab": {
      "name": "surprise.ipynb",
      "version": "0.3.2",
      "provenance": [],
      "collapsed_sections": [],
      "include_colab_link": true
    },
    "kernelspec": {
      "name": "python3",
      "display_name": "Python 3"
    }
  },
  "cells": [
    {
      "cell_type": "markdown",
      "metadata": {
        "id": "view-in-github",
        "colab_type": "text"
      },
      "source": [
        "<a href=\"https://colab.research.google.com/github/uni-3/jupyter-notebooks/blob/master/surprise_tutorial.ipynb\" target=\"_parent\"><img src=\"https://colab.research.google.com/assets/colab-badge.svg\" alt=\"Open In Colab\"/></a>"
      ]
    },
    {
      "cell_type": "code",
      "metadata": {
        "id": "O6Q99zPGLIRk",
        "colab_type": "code",
        "colab": {
          "base_uri": "https://localhost:8080/",
          "height": 309
        },
        "outputId": "6bea11f8-db2e-40cd-9696-cee6d989db06"
      },
      "source": [
        "!pip install surprise"
      ],
      "execution_count": 3,
      "outputs": [
        {
          "output_type": "stream",
          "text": [
            "Collecting surprise\n",
            "  Downloading https://files.pythonhosted.org/packages/61/de/e5cba8682201fcf9c3719a6fdda95693468ed061945493dea2dd37c5618b/surprise-0.1-py2.py3-none-any.whl\n",
            "Collecting scikit-surprise (from surprise)\n",
            "\u001b[?25l  Downloading https://files.pythonhosted.org/packages/4d/fc/cd4210b247d1dca421c25994740cbbf03c5e980e31881f10eaddf45fdab0/scikit-surprise-1.0.6.tar.gz (3.3MB)\n",
            "\u001b[K     |████████████████████████████████| 3.3MB 2.8MB/s \n",
            "\u001b[?25hRequirement already satisfied: joblib>=0.11 in /usr/local/lib/python3.6/dist-packages (from scikit-surprise->surprise) (0.13.2)\n",
            "Requirement already satisfied: numpy>=1.11.2 in /usr/local/lib/python3.6/dist-packages (from scikit-surprise->surprise) (1.16.4)\n",
            "Requirement already satisfied: scipy>=1.0.0 in /usr/local/lib/python3.6/dist-packages (from scikit-surprise->surprise) (1.3.1)\n",
            "Requirement already satisfied: six>=1.10.0 in /usr/local/lib/python3.6/dist-packages (from scikit-surprise->surprise) (1.12.0)\n",
            "Building wheels for collected packages: scikit-surprise\n",
            "  Building wheel for scikit-surprise (setup.py) ... \u001b[?25l\u001b[?25hdone\n",
            "  Created wheel for scikit-surprise: filename=scikit_surprise-1.0.6-cp36-cp36m-linux_x86_64.whl size=1683519 sha256=38f0e9ce9916bf7b8561736c73c67c267e21c0c240a3d65e6e0976d8eee22768\n",
            "  Stored in directory: /root/.cache/pip/wheels/ec/c0/55/3a28eab06b53c220015063ebbdb81213cd3dcbb72c088251ec\n",
            "Successfully built scikit-surprise\n",
            "Installing collected packages: scikit-surprise, surprise\n",
            "Successfully installed scikit-surprise-1.0.6 surprise-0.1\n"
          ],
          "name": "stdout"
        }
      ]
    },
    {
      "cell_type": "code",
      "metadata": {
        "id": "yUAMQ0f6LR7a",
        "colab_type": "code",
        "colab": {}
      },
      "source": [
        "import surprise as sur\n",
        "import pandas as pd\n",
        "import matplotlib.pyplot as plt\n",
        "import numpy as np\n",
        "#import networkx as nx\n",
        "plt.style.use('ggplot')\n",
        "%matplotlib inline"
      ],
      "execution_count": 0,
      "outputs": []
    },
    {
      "cell_type": "code",
      "metadata": {
        "id": "THZA26NZLV1r",
        "colab_type": "code",
        "colab": {}
      },
      "source": [
        "url = 'http://files.grouplens.org/datasets/movielens/ml-100k/'\n",
        "\n",
        "col_users = ['user_id','age','sex','occupation','zip_code']\n",
        "df_users = pd.read_csv(url+'u.user', sep='|', names=col_users)\n",
        "\n",
        "col_rat = ['user_id','movie_id','rating','unix_timestamp']\n",
        "df_ratings = pd.read_csv(url+'u.data',\n",
        "                       sep='\\t', names=col_rat)\n",
        "\n",
        "col_items = ['movie_id', 'movie_title' ,'release_date','video_release_date', 'IMDb_URL', 'unknown', 'Action', 'Adventure',\n",
        "'Animation', 'Childrens', 'Comedy', 'Crime', 'Documentary', 'Drama', 'Fantasy',\n",
        "'Film-Noir', 'Horror', 'Musical', 'Mystery', 'Romance', 'Sci_Fi', 'Thriller', 'War', 'Western']\n",
        "df_items = pd.read_csv(url+'u.item',\n",
        "                   sep='|', names=col_items, encoding='latin-1')\n"
      ],
      "execution_count": 0,
      "outputs": []
    },
    {
      "cell_type": "code",
      "metadata": {
        "id": "hvtQ6-ATLWku",
        "colab_type": "code",
        "colab": {}
      },
      "source": [
        "# load_from_dfに必要、ratingの範囲を指定する\n",
        "reader = sur.Reader(rating_scale=(1,5))\n",
        "\n",
        "sur_data = sur.Dataset.load_from_df(df_ratings[['user_id','movie_id','rating']], reader)"
      ],
      "execution_count": 0,
      "outputs": []
    },
    {
      "cell_type": "code",
      "metadata": {
        "id": "T0LcyqY1PI37",
        "colab_type": "code",
        "colab": {
          "base_uri": "https://localhost:8080/",
          "height": 111
        },
        "outputId": "de0851fa-a1b0-4981-c443-8ff393f1081b"
      },
      "source": [
        "sur_data.df.head(2)"
      ],
      "execution_count": 7,
      "outputs": [
        {
          "output_type": "execute_result",
          "data": {
            "text/html": [
              "<div>\n",
              "<style scoped>\n",
              "    .dataframe tbody tr th:only-of-type {\n",
              "        vertical-align: middle;\n",
              "    }\n",
              "\n",
              "    .dataframe tbody tr th {\n",
              "        vertical-align: top;\n",
              "    }\n",
              "\n",
              "    .dataframe thead th {\n",
              "        text-align: right;\n",
              "    }\n",
              "</style>\n",
              "<table border=\"1\" class=\"dataframe\">\n",
              "  <thead>\n",
              "    <tr style=\"text-align: right;\">\n",
              "      <th></th>\n",
              "      <th>user_id</th>\n",
              "      <th>movie_id</th>\n",
              "      <th>rating</th>\n",
              "    </tr>\n",
              "  </thead>\n",
              "  <tbody>\n",
              "    <tr>\n",
              "      <th>0</th>\n",
              "      <td>196</td>\n",
              "      <td>242</td>\n",
              "      <td>3</td>\n",
              "    </tr>\n",
              "    <tr>\n",
              "      <th>1</th>\n",
              "      <td>186</td>\n",
              "      <td>302</td>\n",
              "      <td>3</td>\n",
              "    </tr>\n",
              "  </tbody>\n",
              "</table>\n",
              "</div>"
            ],
            "text/plain": [
              "   user_id  movie_id  rating\n",
              "0      196       242       3\n",
              "1      186       302       3"
            ]
          },
          "metadata": {
            "tags": []
          },
          "execution_count": 7
        }
      ]
    },
    {
      "cell_type": "code",
      "metadata": {
        "id": "JMJZjPLrLbSg",
        "colab_type": "code",
        "colab": {
          "base_uri": "https://localhost:8080/",
          "height": 34
        },
        "outputId": "2001c420-4054-4f06-a360-3ba0bd23fd49"
      },
      "source": [
        "# アルゴリズムとデータの定義\n",
        "\n",
        "sur_svd = sur.SVD(random_state = 1,\n",
        "              reg_all=0.2, # using some regularization\n",
        "              n_epochs=20,\n",
        "              n_factors=100) # number of latent factors to retain\n",
        "\n",
        "trainset_full = sur_data.build_full_trainset()\n",
        "\n",
        "# 学習\n",
        "sur_svd.fit(trainset_full)\n"
      ],
      "execution_count": 8,
      "outputs": [
        {
          "output_type": "execute_result",
          "data": {
            "text/plain": [
              "<surprise.prediction_algorithms.matrix_factorization.SVD at 0x7f8b58031710>"
            ]
          },
          "metadata": {
            "tags": []
          },
          "execution_count": 8
        }
      ]
    },
    {
      "cell_type": "code",
      "metadata": {
        "id": "I26bl6vmLcs0",
        "colab_type": "code",
        "colab": {
          "base_uri": "https://localhost:8080/",
          "height": 51
        },
        "outputId": "ac8d5eb6-4ebf-41bb-d1b0-385eab8c143e"
      },
      "source": [
        "# 各手法で評価\n",
        "trainsetfull_build = trainset_full.build_testset()\n",
        "predictions_full = sur_svd.test(trainsetfull_build)\n",
        "\n",
        "# 評価用（ここでは学習データを使う）\n",
        "rmse = sur.accuracy.rmse(predictions_full)\n",
        "mae = sur.accuracy.mae(predictions_full)"
      ],
      "execution_count": 9,
      "outputs": [
        {
          "output_type": "stream",
          "text": [
            "RMSE: 0.9168\n",
            "MAE:  0.7305\n"
          ],
          "name": "stdout"
        }
      ]
    },
    {
      "cell_type": "code",
      "metadata": {
        "id": "X-T9Fa-pOvkZ",
        "colab_type": "code",
        "colab": {
          "base_uri": "https://localhost:8080/",
          "height": 51
        },
        "outputId": "9413f69f-4114-48e4-e7cf-29ce0ba8abf5"
      },
      "source": [
        "predictions_full[0:2]"
      ],
      "execution_count": 10,
      "outputs": [
        {
          "output_type": "execute_result",
          "data": {
            "text/plain": [
              "[Prediction(uid=196, iid=242, r_ui=3.0, est=3.911793041493128, details={'was_impossible': False}),\n",
              " Prediction(uid=196, iid=393, r_ui=4.0, est=3.4204953983043573, details={'was_impossible': False})]"
            ]
          },
          "metadata": {
            "tags": []
          },
          "execution_count": 10
        }
      ]
    },
    {
      "cell_type": "code",
      "metadata": {
        "id": "jM75934ULeUF",
        "colab_type": "code",
        "colab": {}
      },
      "source": [
        "# 値と、評価結果を格納したデータフレーム作成\n",
        "\n",
        "df_pred = pd.DataFrame([(x.r_ui, x.est) for x in predictions_full], \n",
        "                       columns=['Rating','Predicted'])"
      ],
      "execution_count": 0,
      "outputs": []
    },
    {
      "cell_type": "code",
      "metadata": {
        "id": "Xbldg27YLgkA",
        "colab_type": "code",
        "colab": {}
      },
      "source": [
        "# 学習データとテストデータを分けて学習させる\n",
        "import random\n",
        "raw_ratings = sur_data.raw_ratings\n",
        "np.random.seed(0)\n",
        "\n",
        "random.shuffle(raw_ratings)"
      ],
      "execution_count": 0,
      "outputs": []
    },
    {
      "cell_type": "code",
      "metadata": {
        "id": "9s3u6Q-ELj2k",
        "colab_type": "code",
        "colab": {}
      },
      "source": [
        "# 9:1で分ける\n",
        "\n",
        "threshold = int(0.9 * len(raw_ratings))\n",
        "train_raw_ratings = raw_ratings[:threshold]\n",
        "test_raw_ratings = raw_ratings[threshold:]\n",
        "\n",
        "sur_data.raw_ratings = train_raw_ratings"
      ],
      "execution_count": 0,
      "outputs": []
    },
    {
      "cell_type": "code",
      "metadata": {
        "id": "pUB61scjLm09",
        "colab_type": "code",
        "colab": {
          "base_uri": "https://localhost:8080/",
          "height": 34
        },
        "outputId": "99de2744-f402-41b3-817f-36dd70fa0992"
      },
      "source": [
        "len(sur_data.raw_ratings)"
      ],
      "execution_count": 14,
      "outputs": [
        {
          "output_type": "execute_result",
          "data": {
            "text/plain": [
              "90000"
            ]
          },
          "metadata": {
            "tags": []
          },
          "execution_count": 14
        }
      ]
    },
    {
      "cell_type": "code",
      "metadata": {
        "id": "5ZhSny2JLoCJ",
        "colab_type": "code",
        "colab": {
          "base_uri": "https://localhost:8080/",
          "height": 204
        },
        "outputId": "e062d55f-6628-4bcc-cf2a-22e1b648ada6"
      },
      "source": [
        "# cross valudationを行う\n",
        "sur_svd = sur.SVD(random_state = 1)\n",
        "cv_results = sur.model_selection.cross_validate(sur_svd, sur_data, measures=['RMSE','MAE'], cv=5)\n",
        "pd.DataFrame(cv_results)"
      ],
      "execution_count": 15,
      "outputs": [
        {
          "output_type": "execute_result",
          "data": {
            "text/html": [
              "<div>\n",
              "<style scoped>\n",
              "    .dataframe tbody tr th:only-of-type {\n",
              "        vertical-align: middle;\n",
              "    }\n",
              "\n",
              "    .dataframe tbody tr th {\n",
              "        vertical-align: top;\n",
              "    }\n",
              "\n",
              "    .dataframe thead th {\n",
              "        text-align: right;\n",
              "    }\n",
              "</style>\n",
              "<table border=\"1\" class=\"dataframe\">\n",
              "  <thead>\n",
              "    <tr style=\"text-align: right;\">\n",
              "      <th></th>\n",
              "      <th>test_rmse</th>\n",
              "      <th>test_mae</th>\n",
              "      <th>fit_time</th>\n",
              "      <th>test_time</th>\n",
              "    </tr>\n",
              "  </thead>\n",
              "  <tbody>\n",
              "    <tr>\n",
              "      <th>0</th>\n",
              "      <td>0.949523</td>\n",
              "      <td>0.748006</td>\n",
              "      <td>5.471793</td>\n",
              "      <td>0.275309</td>\n",
              "    </tr>\n",
              "    <tr>\n",
              "      <th>1</th>\n",
              "      <td>0.935327</td>\n",
              "      <td>0.738424</td>\n",
              "      <td>5.410445</td>\n",
              "      <td>0.139594</td>\n",
              "    </tr>\n",
              "    <tr>\n",
              "      <th>2</th>\n",
              "      <td>0.937613</td>\n",
              "      <td>0.742244</td>\n",
              "      <td>5.389954</td>\n",
              "      <td>0.143568</td>\n",
              "    </tr>\n",
              "    <tr>\n",
              "      <th>3</th>\n",
              "      <td>0.942280</td>\n",
              "      <td>0.742586</td>\n",
              "      <td>5.402754</td>\n",
              "      <td>0.140658</td>\n",
              "    </tr>\n",
              "    <tr>\n",
              "      <th>4</th>\n",
              "      <td>0.942708</td>\n",
              "      <td>0.744475</td>\n",
              "      <td>5.414587</td>\n",
              "      <td>0.266189</td>\n",
              "    </tr>\n",
              "  </tbody>\n",
              "</table>\n",
              "</div>"
            ],
            "text/plain": [
              "   test_rmse  test_mae  fit_time  test_time\n",
              "0   0.949523  0.748006  5.471793   0.275309\n",
              "1   0.935327  0.738424  5.410445   0.139594\n",
              "2   0.937613  0.742244  5.389954   0.143568\n",
              "3   0.942280  0.742586  5.402754   0.140658\n",
              "4   0.942708  0.744475  5.414587   0.266189"
            ]
          },
          "metadata": {
            "tags": []
          },
          "execution_count": 15
        }
      ]
    },
    {
      "cell_type": "code",
      "metadata": {
        "id": "UtleKUbuLrQP",
        "colab_type": "code",
        "colab": {}
      },
      "source": [
        "# gird searchをやってみる\n",
        "param_grid = {'n_epochs': [15,20,25],\n",
        "            'lr_all': [0.002, 0.02, 0.2, 2]}\n",
        "\n",
        "grid_search = sur.model_selection.GridSearchCV(sur.SVD,\n",
        "                                              param_grid,\n",
        "                                              measures=['rmse'],\n",
        "                                              cv = 3,\n",
        "                                              refit = True)\n",
        "\n",
        "grid_search.fit(sur_data)\n",
        "\n",
        "# bestのモデルを取り出す\n",
        "sur_svd = grid_search.best_estimator['rmse']"
      ],
      "execution_count": 0,
      "outputs": []
    },
    {
      "cell_type": "code",
      "metadata": {
        "id": "jXU6RIpQMfxr",
        "colab_type": "code",
        "colab": {
          "base_uri": "https://localhost:8080/",
          "height": 136
        },
        "outputId": "aff18cf7-5c54-452b-f721-2abf83c62a9c"
      },
      "source": [
        "# 学習用データで学習させる\n",
        "\n",
        "trainset = sur_data.build_full_trainset()\n",
        "sur_svd.fit(trainset)\n",
        "\n",
        "# 評価\n",
        "trainset_build = trainset.build_testset()\n",
        "predictions_train = sur_svd.test(trainset_build)\n",
        "print('Training score (rated items):')\n",
        "sur.accuracy.rmse(predictions_train)\n",
        "\n",
        "# test用データで評価\n",
        "testset = sur_data.construct_testset(test_raw_ratings)\n",
        "predictions_test = sur_svd.test(testset)\n",
        "print('Test score (rated items)')\n",
        "sur.accuracy.rmse(predictions_test)\n",
        "\n",
        "# ratingされていないデータを使って、予測\n",
        "no_ratings = trainset.build_anti_testset()\n",
        "predictions_no_ratings = sur_svd.test(no_ratings)\n",
        "print('Test score (unrated items):')\n",
        "sur.accuracy.rmse(predictions_no_ratings)"
      ],
      "execution_count": 17,
      "outputs": [
        {
          "output_type": "stream",
          "text": [
            "Training score (rated items):\n",
            "RMSE: 0.8367\n",
            "Test score (rated items)\n",
            "RMSE: 0.9428\n",
            "Test score (unrated items):\n",
            "RMSE: 0.5167\n"
          ],
          "name": "stdout"
        },
        {
          "output_type": "execute_result",
          "data": {
            "text/plain": [
              "0.5167264953695723"
            ]
          },
          "metadata": {
            "tags": []
          },
          "execution_count": 17
        }
      ]
    },
    {
      "cell_type": "code",
      "metadata": {
        "id": "e_JNhwOdMltT",
        "colab_type": "code",
        "colab": {
          "base_uri": "https://localhost:8080/",
          "height": 153
        },
        "outputId": "6db26a4a-fc7a-4027-cbf1-a728019add21"
      },
      "source": [
        "# 全結果について、サンプルを比較\n",
        "print(predictions_train[0])\n",
        "print(predictions_train[1])\n",
        "print(\"\")\n",
        "print(predictions_test[0])\n",
        "print(predictions_test[1])\n",
        "print(\"\")\n",
        "print(predictions_no_ratings[0])\n",
        "print(predictions_no_ratings[1])"
      ],
      "execution_count": 18,
      "outputs": [
        {
          "output_type": "stream",
          "text": [
            "user: 903        item: 46         r_ui = 4.00   est = 3.66   {'was_impossible': False}\n",
            "user: 903        item: 333        r_ui = 4.00   est = 3.56   {'was_impossible': False}\n",
            "\n",
            "user: 663        item: 259        r_ui = 2.00   est = 2.83   {'was_impossible': False}\n",
            "user: 405        item: 1119       r_ui = 3.00   est = 1.75   {'was_impossible': False}\n",
            "\n",
            "user: 903        item: 205        r_ui = 3.53   est = 4.21   {'was_impossible': False}\n",
            "user: 903        item: 219        r_ui = 3.53   est = 3.50   {'was_impossible': False}\n"
          ],
          "name": "stdout"
        }
      ]
    },
    {
      "cell_type": "markdown",
      "metadata": {
        "id": "kbbRdSPGMvf2",
        "colab_type": "text"
      },
      "source": [
        "\n",
        "KNNでやってみる。collaborative filterとは、違って、近傍のユーザのratingの和をとる。すなわち、アイテム群のratingの和が取れる"
      ]
    },
    {
      "cell_type": "code",
      "metadata": {
        "id": "VuITqBycMvFU",
        "colab_type": "code",
        "colab": {}
      },
      "source": [
        "# アイテム同士の近さを取る\n",
        "# @see https://surprise.readthedocs.io/en/stable/knn_inspired.html\n",
        "sim_options = {'name': 'cosine',\n",
        "               'user_based': False}\n",
        "\n",
        "sur_knn = sur.KNNWithMeans(sim_options = sim_options)\n"
      ],
      "execution_count": 0,
      "outputs": []
    },
    {
      "cell_type": "code",
      "metadata": {
        "id": "bWLgn6F7MzAh",
        "colab_type": "code",
        "colab": {
          "base_uri": "https://localhost:8080/",
          "height": 170
        },
        "outputId": "febbb604-d0b1-4c91-c472-8ab917a19f33"
      },
      "source": [
        "sur_knn.fit(trainset)\n",
        "\n",
        "predictions_train = sur_knn.test(trainset_build)\n",
        "print('Biased accuracy on train group:')\n",
        "sur.accuracy.rmse(predictions_train)\n",
        "\n",
        "predictions_test = sur_knn.test(testset)\n",
        "print('Unbiased accuracy on test group:')\n",
        "sur.accuracy.rmse(predictions_test)\n",
        "\n",
        "predictions_no_ratings = sur_knn.test(no_ratings)\n",
        "print('Biased accuracy on no rated group:')\n",
        "sur.accuracy.rmse(predictions_no_ratings)"
      ],
      "execution_count": 21,
      "outputs": [
        {
          "output_type": "stream",
          "text": [
            "Computing the cosine similarity matrix...\n",
            "Done computing similarity matrix.\n",
            "Biased accuracy on train group:\n",
            "RMSE: 0.7833\n",
            "Unbiased accuracy on test group:\n",
            "RMSE: 0.9302\n",
            "Biased accuracy on no rated group:\n",
            "RMSE: 0.9691\n"
          ],
          "name": "stdout"
        },
        {
          "output_type": "execute_result",
          "data": {
            "text/plain": [
              "0.9690796104367222"
            ]
          },
          "metadata": {
            "tags": []
          },
          "execution_count": 21
        }
      ]
    },
    {
      "cell_type": "code",
      "metadata": {
        "id": "T5shxNmmM1X2",
        "colab_type": "code",
        "colab": {}
      },
      "source": [
        "# ユーザ同士の近さをだす\n",
        "\n",
        "sim_options = {'name': 'cosine',\n",
        "               'user_based': True}"
      ],
      "execution_count": 0,
      "outputs": []
    },
    {
      "cell_type": "code",
      "metadata": {
        "id": "JDCYh36mM3Kb",
        "colab_type": "code",
        "colab": {}
      },
      "source": [
        "sur_knn = sur.KNNWithMeans(sim_options = sim_options)\n"
      ],
      "execution_count": 0,
      "outputs": []
    },
    {
      "cell_type": "code",
      "metadata": {
        "id": "RxZXd2UoM4ex",
        "colab_type": "code",
        "colab": {
          "base_uri": "https://localhost:8080/",
          "height": 170
        },
        "outputId": "b520016b-d8d6-4152-cfd3-519b26098078"
      },
      "source": [
        "sur_knn.fit(trainset)\n",
        "\n",
        "predictions_train = sur_knn.test(trainset_build)\n",
        "print('Biased accuracy on train group:')\n",
        "sur.accuracy.rmse(predictions_train)\n",
        "\n",
        "predictions_test = sur_knn.test(testset)\n",
        "print('Unbiased accuracy on test group:')\n",
        "sur.accuracy.rmse(predictions_test)\n",
        "\n",
        "predictions_no_ratings = sur_knn.test(no_ratings)\n",
        "print('Biased accuracy on no rated group:')\n",
        "sur.accuracy.rmse(predictions_no_ratings)"
      ],
      "execution_count": 25,
      "outputs": [
        {
          "output_type": "stream",
          "text": [
            "Computing the cosine similarity matrix...\n",
            "Done computing similarity matrix.\n",
            "Biased accuracy on train group:\n",
            "RMSE: 0.8244\n",
            "Unbiased accuracy on test group:\n",
            "RMSE: 0.9457\n",
            "Biased accuracy on no rated group:\n",
            "RMSE: 0.7690\n"
          ],
          "name": "stdout"
        },
        {
          "output_type": "execute_result",
          "data": {
            "text/plain": [
              "0.7690431776897775"
            ]
          },
          "metadata": {
            "tags": []
          },
          "execution_count": 25
        }
      ]
    },
    {
      "cell_type": "code",
      "metadata": {
        "id": "SEub4lESM9uu",
        "colab_type": "code",
        "colab": {}
      },
      "source": [
        "# 評価\n",
        "from collections import defaultdict\n",
        "\n",
        "def precision_recall_at_k(predictions, k=10, threshold=3.5):\n",
        "    '''k個分の評価を取る'''\n",
        "\n",
        "    # First map the predictions to each user.\n",
        "    user_est_true = defaultdict(list)\n",
        "    for uid, _, true_r, est, _ in predictions:\n",
        "        user_est_true[uid].append((est, true_r))\n",
        "\n",
        "    precisions = dict()\n",
        "    recalls = dict()\n",
        "    f1s = dict()\n",
        "    for uid, user_ratings in user_est_true.items():\n",
        "\n",
        "        # Sort user ratings by estimated value\n",
        "        user_ratings.sort(key=lambda x: x[0], reverse=True)\n",
        "\n",
        "        # Number of relevant items\n",
        "        n_rel = sum((true_r >= threshold) for (_, true_r) in user_ratings)\n",
        "\n",
        "        # Number of recommended items in top k\n",
        "        n_rec_k = sum((est >= threshold) for (est, _) in user_ratings[:k])\n",
        "\n",
        "        # Number of relevant and recommended items in top k\n",
        "        n_rel_and_rec_k = sum(((true_r >= threshold) and (est >= threshold))\n",
        "                              for (est, true_r) in user_ratings[:k])\n",
        "\n",
        "        # Precision@K: Proportion of recommended items that are relevant\n",
        "        precisions[uid] = n_rel_and_rec_k / n_rec_k if n_rec_k != 0 else 1\n",
        "\n",
        "        # Recall@K: Proportion of relevant items that are recommended\n",
        "        recalls[uid] = n_rel_and_rec_k / n_rel if n_rel != 0 else 1\n",
        "\n",
        "        # F1@K:\n",
        "        f1s[uid] = 2*precisions[uid]*recalls[uid] / \\\n",
        "            (precisions[uid]+recalls[uid]\n",
        "             ) if (precisions[uid]+recalls[uid]) != 0 else 1\n",
        "\n",
        "    return precisions, recalls, f1s"
      ],
      "execution_count": 0,
      "outputs": []
    },
    {
      "cell_type": "code",
      "metadata": {
        "id": "zAqZQEZZM-wN",
        "colab_type": "code",
        "colab": {}
      },
      "source": [
        "precisions, recalls, f1s = precision_recall_at_k(predictions_train, k=5, threshold=4)\n"
      ],
      "execution_count": 0,
      "outputs": []
    },
    {
      "cell_type": "code",
      "metadata": {
        "id": "TIWQMjh_NAZ_",
        "colab_type": "code",
        "colab": {
          "base_uri": "https://localhost:8080/",
          "height": 68
        },
        "outputId": "bc6973e8-a843-4887-e5ed-d56e84e3afd0"
      },
      "source": [
        "# モデルの評価値 train\n",
        "print(np.mean(list(precisions.values())))\n",
        "print(np.mean(list(recalls.values())))\n",
        "print(np.mean(list(f1s.values())))"
      ],
      "execution_count": 28,
      "outputs": [
        {
          "output_type": "stream",
          "text": [
            "0.9909155178508308\n",
            "0.11513510525973703\n",
            "0.1898208704011399\n"
          ],
          "name": "stdout"
        }
      ]
    },
    {
      "cell_type": "code",
      "metadata": {
        "id": "0Mp5TiPtNBrm",
        "colab_type": "code",
        "colab": {}
      },
      "source": [
        "# モデルの評価値 test\n",
        "precisions, recalls, f1s = precision_recall_at_k(predictions_test, k=5, threshold=4)\n"
      ],
      "execution_count": 0,
      "outputs": []
    },
    {
      "cell_type": "code",
      "metadata": {
        "id": "X8xMvt_INEIz",
        "colab_type": "code",
        "colab": {
          "base_uri": "https://localhost:8080/",
          "height": 68
        },
        "outputId": "e26b3718-0a0a-4dc8-9c3b-ca667709c1be"
      },
      "source": [
        "\n",
        "print(np.mean(list(precisions.values())))\n",
        "print(np.mean(list(recalls.values())))\n",
        "print(np.mean(list(f1s.values())))"
      ],
      "execution_count": 30,
      "outputs": [
        {
          "output_type": "stream",
          "text": [
            "0.9033732317736671\n",
            "0.3249044733078165\n",
            "0.3703663846094594\n"
          ],
          "name": "stdout"
        }
      ]
    },
    {
      "cell_type": "code",
      "metadata": {
        "id": "YbloUhtGNFzO",
        "colab_type": "code",
        "colab": {}
      },
      "source": [
        "# 似ているもの取得\n",
        "def get_top_n(predictions, n=10):\n",
        "\n",
        "    # 予測結果取得    \n",
        "    top_n = {}\n",
        "    for uid, iid, true_r, est, _ in predictions:\n",
        "        if uid in top_n.keys():\n",
        "            top_n[uid].append((iid, est))\n",
        "        else:\n",
        "            top_n[uid] = [(iid,est)]\n",
        "\n",
        "    # ratingごとの取得\n",
        "    \n",
        "    for uid, user_ratings in top_n.items():\n",
        "        user_ratings.sort(key=lambda x: x[1], reverse=True)\n",
        "        top_n[uid] = user_ratings[:n]\n",
        "\n",
        "    return top_n"
      ],
      "execution_count": 0,
      "outputs": []
    },
    {
      "cell_type": "code",
      "metadata": {
        "id": "JaDBEJAWNHnE",
        "colab_type": "code",
        "colab": {}
      },
      "source": [
        "# trainのpredictionを取得\n",
        "top_n = get_top_n(predictions_train, n=10)\n"
      ],
      "execution_count": 0,
      "outputs": []
    },
    {
      "cell_type": "code",
      "metadata": {
        "id": "pdHAI-QHNI3N",
        "colab_type": "code",
        "colab": {}
      },
      "source": [
        "# ユーザがアイテムにつけるratingの予測取得\n",
        "def get_ratings(user, top_n, ratings, items):\n",
        "\n",
        "    filtered = ratings[user][top_n:]\n",
        "    filtered.sort(key=lambda tup: tup[1], reverse=True)\n",
        "\n",
        "    top_df = pd.DataFrame(filtered, columns=['movie_id','prediction'])\n",
        "    top_df = pd.merge(left=top_df, right=items[['movie_id','movie_title']], on='movie_id')\n",
        "    \n",
        "    return top_df"
      ],
      "execution_count": 0,
      "outputs": []
    },
    {
      "cell_type": "code",
      "metadata": {
        "id": "WvW0RZzcNKYJ",
        "colab_type": "code",
        "colab": {
          "base_uri": "https://localhost:8080/",
          "height": 204
        },
        "outputId": "3d2d86c3-e1ae-4784-8911-c17bc9ca6b5a"
      },
      "source": [
        "get_ratings(10, 5, top_n, df_items)\n"
      ],
      "execution_count": 34,
      "outputs": [
        {
          "output_type": "execute_result",
          "data": {
            "text/html": [
              "<div>\n",
              "<style scoped>\n",
              "    .dataframe tbody tr th:only-of-type {\n",
              "        vertical-align: middle;\n",
              "    }\n",
              "\n",
              "    .dataframe tbody tr th {\n",
              "        vertical-align: top;\n",
              "    }\n",
              "\n",
              "    .dataframe thead th {\n",
              "        text-align: right;\n",
              "    }\n",
              "</style>\n",
              "<table border=\"1\" class=\"dataframe\">\n",
              "  <thead>\n",
              "    <tr style=\"text-align: right;\">\n",
              "      <th></th>\n",
              "      <th>movie_id</th>\n",
              "      <th>prediction</th>\n",
              "      <th>movie_title</th>\n",
              "    </tr>\n",
              "  </thead>\n",
              "  <tbody>\n",
              "    <tr>\n",
              "      <th>0</th>\n",
              "      <td>603</td>\n",
              "      <td>4.916034</td>\n",
              "      <td>Rear Window (1954)</td>\n",
              "    </tr>\n",
              "    <tr>\n",
              "      <th>1</th>\n",
              "      <td>100</td>\n",
              "      <td>4.915548</td>\n",
              "      <td>Fargo (1996)</td>\n",
              "    </tr>\n",
              "    <tr>\n",
              "      <th>2</th>\n",
              "      <td>474</td>\n",
              "      <td>4.904074</td>\n",
              "      <td>Dr. Strangelove or: How I Learned to Stop Worr...</td>\n",
              "    </tr>\n",
              "    <tr>\n",
              "      <th>3</th>\n",
              "      <td>134</td>\n",
              "      <td>4.884801</td>\n",
              "      <td>Citizen Kane (1941)</td>\n",
              "    </tr>\n",
              "    <tr>\n",
              "      <th>4</th>\n",
              "      <td>12</td>\n",
              "      <td>4.883523</td>\n",
              "      <td>Usual Suspects, The (1995)</td>\n",
              "    </tr>\n",
              "  </tbody>\n",
              "</table>\n",
              "</div>"
            ],
            "text/plain": [
              "   movie_id  prediction                                        movie_title\n",
              "0       603    4.916034                                 Rear Window (1954)\n",
              "1       100    4.915548                                       Fargo (1996)\n",
              "2       474    4.904074  Dr. Strangelove or: How I Learned to Stop Worr...\n",
              "3       134    4.884801                                Citizen Kane (1941)\n",
              "4        12    4.883523                         Usual Suspects, The (1995)"
            ]
          },
          "metadata": {
            "tags": []
          },
          "execution_count": 34
        }
      ]
    },
    {
      "cell_type": "code",
      "metadata": {
        "id": "-mvDUXHNNMXC",
        "colab_type": "code",
        "colab": {
          "base_uri": "https://localhost:8080/",
          "height": 204
        },
        "outputId": "023a3cc4-8c11-494b-e036-1b61419c8677"
      },
      "source": [
        "# topnに入ったアイテムがアイテム全体の何割を占めているか\n",
        "top_n_list = []\n",
        "for key in top_n.keys():\n",
        "    for val in top_n[key]:\n",
        "        top_n_list.append([key, val[0], val[1]])\n",
        "        \n",
        "df_top = pd.DataFrame(top_n_list, columns=['uid', 'iid', 'est'])\n",
        "df_top.head()"
      ],
      "execution_count": 40,
      "outputs": [
        {
          "output_type": "execute_result",
          "data": {
            "text/html": [
              "<div>\n",
              "<style scoped>\n",
              "    .dataframe tbody tr th:only-of-type {\n",
              "        vertical-align: middle;\n",
              "    }\n",
              "\n",
              "    .dataframe tbody tr th {\n",
              "        vertical-align: top;\n",
              "    }\n",
              "\n",
              "    .dataframe thead th {\n",
              "        text-align: right;\n",
              "    }\n",
              "</style>\n",
              "<table border=\"1\" class=\"dataframe\">\n",
              "  <thead>\n",
              "    <tr style=\"text-align: right;\">\n",
              "      <th></th>\n",
              "      <th>uid</th>\n",
              "      <th>iid</th>\n",
              "      <th>est</th>\n",
              "    </tr>\n",
              "  </thead>\n",
              "  <tbody>\n",
              "    <tr>\n",
              "      <th>0</th>\n",
              "      <td>903</td>\n",
              "      <td>357</td>\n",
              "      <td>4.694123</td>\n",
              "    </tr>\n",
              "    <tr>\n",
              "      <th>1</th>\n",
              "      <td>903</td>\n",
              "      <td>127</td>\n",
              "      <td>4.667889</td>\n",
              "    </tr>\n",
              "    <tr>\n",
              "      <th>2</th>\n",
              "      <td>903</td>\n",
              "      <td>50</td>\n",
              "      <td>4.616572</td>\n",
              "    </tr>\n",
              "    <tr>\n",
              "      <th>3</th>\n",
              "      <td>903</td>\n",
              "      <td>272</td>\n",
              "      <td>4.590428</td>\n",
              "    </tr>\n",
              "    <tr>\n",
              "      <th>4</th>\n",
              "      <td>903</td>\n",
              "      <td>318</td>\n",
              "      <td>4.578479</td>\n",
              "    </tr>\n",
              "  </tbody>\n",
              "</table>\n",
              "</div>"
            ],
            "text/plain": [
              "   uid  iid       est\n",
              "0  903  357  4.694123\n",
              "1  903  127  4.667889\n",
              "2  903   50  4.616572\n",
              "3  903  272  4.590428\n",
              "4  903  318  4.578479"
            ]
          },
          "metadata": {
            "tags": []
          },
          "execution_count": 40
        }
      ]
    },
    {
      "cell_type": "code",
      "metadata": {
        "id": "RuWil-6BNP21",
        "colab_type": "code",
        "colab": {
          "base_uri": "https://localhost:8080/",
          "height": 34
        },
        "outputId": "f7965c7d-c6c2-4477-be27-3fc075a040aa"
      },
      "source": [
        "# カバレッジの割合\n",
        "len(df_top.iid.unique())/len(df_ratings['movie_id'].unique())\n"
      ],
      "execution_count": 41,
      "outputs": [
        {
          "output_type": "execute_result",
          "data": {
            "text/plain": [
              "0.2907253269916766"
            ]
          },
          "metadata": {
            "tags": []
          },
          "execution_count": 41
        }
      ]
    },
    {
      "cell_type": "code",
      "metadata": {
        "id": "MOdoJXg5Rish",
        "colab_type": "code",
        "colab": {
          "base_uri": "https://localhost:8080/",
          "height": 51
        },
        "outputId": "cf412326-3630-4d94-f49f-26d3528be634"
      },
      "source": [
        "print(len(df_ratings['movie_id'].unique()))\n",
        "print(len(df_ratings['user_id'].unique()))"
      ],
      "execution_count": 38,
      "outputs": [
        {
          "output_type": "stream",
          "text": [
            "1682\n",
            "943\n"
          ],
          "name": "stdout"
        }
      ]
    },
    {
      "cell_type": "code",
      "metadata": {
        "id": "0BvnXFqDQCxc",
        "colab_type": "code",
        "colab": {}
      },
      "source": [
        ""
      ],
      "execution_count": 0,
      "outputs": []
    }
  ]
}